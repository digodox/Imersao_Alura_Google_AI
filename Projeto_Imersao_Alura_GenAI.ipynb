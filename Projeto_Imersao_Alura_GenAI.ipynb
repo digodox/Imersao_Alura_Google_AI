{
  "nbformat": 4,
  "nbformat_minor": 0,
  "metadata": {
    "colab": {
      "provenance": [],
      "authorship_tag": "ABX9TyNsu7TGq3dIPGeE48VHnsMn",
      "include_colab_link": true
    },
    "kernelspec": {
      "name": "python3",
      "display_name": "Python 3"
    },
    "language_info": {
      "name": "python"
    }
  },
  "cells": [
    {
      "cell_type": "markdown",
      "metadata": {
        "id": "view-in-github",
        "colab_type": "text"
      },
      "source": [
        "<a href=\"https://colab.research.google.com/github/digodox/Imersao_Alura_Google_AI/blob/main/Projeto_Imersao_Alura_GenAI.ipynb\" target=\"_parent\"><img src=\"https://colab.research.google.com/assets/colab-badge.svg\" alt=\"Open In Colab\"/></a>"
      ]
    },
    {
      "cell_type": "markdown",
      "source": [
        "##Importação das bibliotecas"
      ],
      "metadata": {
        "id": "MgLZcH6Wq_IQ"
      }
    },
    {
      "cell_type": "code",
      "source": [
        "import hashlib\n",
        "from IPython.display import display\n",
        "from IPython.display import Markdown\n",
        "import textwrap\n",
        "import numpy as np\n",
        "import pandas as pd\n",
        "import google.generativeai as genai\n",
        "from google.colab import userdata"
      ],
      "metadata": {
        "id": "V4BMxvpeq-PN"
      },
      "execution_count": 68,
      "outputs": []
    },
    {
      "cell_type": "markdown",
      "source": [
        "##Configurando a API Key"
      ],
      "metadata": {
        "id": "Uczx5guktib9"
      }
    },
    {
      "cell_type": "code",
      "source": [
        "api_key = userdata.get(\"GENAI_API_KEY\")\n",
        "genai.configure(api_key=api_key)"
      ],
      "metadata": {
        "id": "9Vx0hLD-tdQZ"
      },
      "execution_count": 69,
      "outputs": []
    },
    {
      "cell_type": "markdown",
      "source": [
        "##Configuração do modelo"
      ],
      "metadata": {
        "id": "sDmjCqaQsH3r"
      }
    },
    {
      "cell_type": "code",
      "source": [
        "generation_config = {\n",
        "  \"temperature\": 1,\n",
        "  \"top_p\": 0.95,\n",
        "  \"top_k\": 0,\n",
        "  \"max_output_tokens\": 8192,\n",
        "}\n",
        "\n",
        "safety_settings = [\n",
        "  {\n",
        "    \"category\": \"HARM_CATEGORY_HARASSMENT\",\n",
        "    \"threshold\": \"BLOCK_MEDIUM_AND_ABOVE\"\n",
        "  },\n",
        "  {\n",
        "    \"category\": \"HARM_CATEGORY_HATE_SPEECH\",\n",
        "    \"threshold\": \"BLOCK_MEDIUM_AND_ABOVE\"\n",
        "  },\n",
        "  {\n",
        "    \"category\": \"HARM_CATEGORY_SEXUALLY_EXPLICIT\",\n",
        "    \"threshold\": \"BLOCK_MEDIUM_AND_ABOVE\"\n",
        "  },\n",
        "  {\n",
        "    \"category\": \"HARM_CATEGORY_DANGEROUS_CONTENT\",\n",
        "    \"threshold\": \"BLOCK_MEDIUM_AND_ABOVE\"\n",
        "  },\n",
        "]\n",
        "\n",
        "system_instruction = \"Aja como um engenheiro.\""
      ],
      "metadata": {
        "id": "aDJcBQPcrF8z"
      },
      "execution_count": 70,
      "outputs": []
    },
    {
      "cell_type": "markdown",
      "source": [
        "##Markdown"
      ],
      "metadata": {
        "id": "xxw28eeYybsZ"
      }
    },
    {
      "cell_type": "code",
      "source": [
        "def to_markdown(text):\n",
        "  text = text.replace(\"'\", \" *\")\n",
        "  return Markdown(textwrap.indent(text, '> ', predicate=lambda _: True))\n"
      ],
      "metadata": {
        "id": "itnByLDuybVf"
      },
      "execution_count": 71,
      "outputs": []
    },
    {
      "cell_type": "markdown",
      "source": [
        "##Extração dos dados das planilhas e preparando o histórico do chat"
      ],
      "metadata": {
        "id": "KOliPazzSlij"
      }
    },
    {
      "cell_type": "code",
      "source": [
        "def extrair_dados_racionalizacao(alarme):\n",
        "  tagname = alarme['Tagname']\n",
        "  descricao = alarme['Descrição do Alarme']\n",
        "  prioridade = alarme['Prioridade']\n",
        "  causa = alarme['Causa iniciadora']\n",
        "  acao = alarme['Ação da Central de Controle']\n",
        "  impacto = alarme['Impacto direto']\n",
        "  consequencia = alarme['Consequência Potencial']\n",
        "  supressao = alarme['Supressão Manual']\n",
        "\n",
        "  dado_extraido = f\"O alarme '{tagname}', que se refere à '{descricao}', e considerando que a causa iniciadora é a '{causa}', e com prioridade '{prioridade}'.\"\n",
        "  return dado_extraido\n",
        "\n",
        "def extrair_dados_alarmes(alarme):\n",
        "  tagname = alarme['Tagname']\n",
        "  status = alarme['Status do Alarme']\n",
        "\n",
        "  dado_extraido = f\"O alarme '{tagname}' está no estado '{status}'.\"\n",
        "  return dado_extraido\n",
        "\n",
        "def extrair_dados_valores_anal(alarme):\n",
        "  tagname = alarme['TagName']\n",
        "  description = alarme['Description']\n",
        "  value = alarme['Value']\n",
        "  units = alarme['Units']\n",
        "\n",
        "  dado_extraido = f\"O tag '{tagname}', que se refere à '{description}', possui o valor atual de '{value}' '{units}'.\"\n",
        "  return dado_extraido\n",
        "\n",
        "def extrair_dados_limites_operacionais(alarme):\n",
        "  estacao = alarme['Estação']\n",
        "  variavel = alarme['Variável']\n",
        "  limite_superior = alarme['Limite Superior']\n",
        "  limite_inferior = alarme['Limite Inferior']\n",
        "  units = alarme['Units']\n",
        "\n",
        "  dado_extraido = f\"A variável '{variavel}', que se refere à estação '{estacao}', possui limite máximo de '{limite_superior}' '{units}' e limite mínimo de '{limite_inferior}' '{units}'.\"\n",
        "  return dado_extraido"
      ],
      "metadata": {
        "id": "6Zuqf7xQSpcR"
      },
      "execution_count": 72,
      "outputs": []
    },
    {
      "cell_type": "markdown",
      "source": [
        "##Definição do contexto inicial na variável history[]"
      ],
      "metadata": {
        "id": "daetIoQ5t9Dg"
      }
    },
    {
      "cell_type": "code",
      "source": [
        "#Chat history variable\n",
        "history = []\n",
        "\n",
        "df = pd.read_excel(\"/content/sample_data/Dados/Racionalizacao_de_alarmes.xlsx\")\n",
        "for index, row in df.iterrows():\n",
        "  alarme = row.to_dict()\n",
        "  dados_racionalizacao = extrair_dados_racionalizacao(alarme)\n",
        "  history.append({\n",
        "      \"role\": \"user\",\n",
        "      \"parts\": dados_racionalizacao\n",
        "      })\n",
        "\n",
        "df = pd.read_excel(\"/content/sample_data/Dados/Alarmes.xlsx\")\n",
        "for index, row in df.iterrows():\n",
        "  alarme = row.to_dict()\n",
        "  dados_alarmes = extrair_dados_alarmes(alarme)\n",
        "  history.append({\n",
        "      \"role\": \"user\",\n",
        "      \"parts\": dados_alarmes\n",
        "      })\n",
        "\n",
        "df = pd.read_excel(\"/content/sample_data/Dados/TAGs_Analogicos.xlsx\")\n",
        "for index, row in df.iterrows():\n",
        "  alarme = row.to_dict()\n",
        "  dados_tags_analogicos = extrair_dados_valores_anal(alarme)\n",
        "  history.append({\n",
        "    \"role\": \"user\",\n",
        "    \"parts\": dados_tags_analogicos\n",
        "    })\n",
        "\n",
        "df = pd.read_excel(\"/content/sample_data/Dados/Limites Operacionais.xlsx\")\n",
        "for index, row in df.iterrows():\n",
        "  alarme = row.to_dict()\n",
        "  dados_limites_operacionais = extrair_dados_limites_operacionais(alarme)\n",
        "  history.append({\n",
        "    \"role\": \"user\",\n",
        "    \"parts\": dados_limites_operacionais\n",
        "    })"
      ],
      "metadata": {
        "id": "rhxP8fiCTIEz"
      },
      "execution_count": 73,
      "outputs": []
    },
    {
      "cell_type": "markdown",
      "source": [
        "##Inicialização do modelo"
      ],
      "metadata": {
        "id": "NlnnNNSTrNrz"
      }
    },
    {
      "cell_type": "code",
      "execution_count": 74,
      "metadata": {
        "id": "VA7xBz9mq39c"
      },
      "outputs": [],
      "source": [
        "model = genai.GenerativeModel(model_name=\"gemini-1.5-pro-latest\",\n",
        "                              generation_config=generation_config,\n",
        "                              system_instruction=system_instruction,\n",
        "                              safety_settings=safety_settings)"
      ]
    },
    {
      "cell_type": "markdown",
      "source": [
        "## Chat prompt\n",
        "\n",
        "Sugestão de perguntas para o modelo:\n",
        "\n",
        "*   Sumarize o status das estações.\n",
        "*   Qual o status da estação 01.\n",
        "*   Quais ações tomar sobre o alarme crítico da estação 01.\n",
        "*   Digite \"fim\" no prompt para encerrar o chat."
      ],
      "metadata": {
        "id": "o0aVYZ3RuxpL"
      }
    },
    {
      "cell_type": "code",
      "source": [
        "convo = model.start_chat(history=history)\n",
        "\n",
        "prompt = input(\"Digite sua pergunta: \")\n",
        "while prompt != \"fim\":\n",
        "  convo.send_message(prompt)\n",
        "  print(\"Resposta: \")\n",
        "  display(to_markdown(convo.last.text))\n",
        "  print(\"\\n\")\n",
        "  prompt = input(\"Digite sua pergunta: \")\n"
      ],
      "metadata": {
        "colab": {
          "base_uri": "https://localhost:8080/",
          "height": 1000
        },
        "id": "8TZwr9tkuw3c",
        "outputId": "888c51c0-b257-4411-c11e-c7e37d8df9c3"
      },
      "execution_count": 75,
      "outputs": [
        {
          "output_type": "stream",
          "name": "stdout",
          "text": [
            "Digite sua pergunta: Sumarize o status das estações\n",
            "Resposta: \n"
          ]
        },
        {
          "output_type": "display_data",
          "data": {
            "text/plain": [
              "<IPython.core.display.Markdown object>"
            ],
            "text/markdown": "> ## Sumário do Status das Estações CITY\n> \n> **Alarmes:**\n> \n> * **CITY_05_LSL-053B:** Nível de água no aquecedor B - Atuado. Possível falta de água na caixa d *água da estação ou problema no instrumento. Prioridade BAIXA.\n> * **CITY_01_XS-056A-FALHA:** Válvula de bloqueio na entrada do aquecedor A - Falha.  Falha no comando da válvula HV-056. Prioridade CRÍTICA.\n> * **CITY_02_ZSH-410:** Válvula VES-410 Aberta. Confirmação do comando de abertura, falha do instrumento ou abertura indevida. Prioridade CRÍTICA.\n> * **CITY_07_ZSL-014B:** Válvula XV-014B Fechada. Falha do equipamento, falha dos tramos de redução, atuação ou indicação indevida. Prioridade ALTA.\n> \n> **Variáveis fora dos limites:**\n> \n> * **CITY_02_GFC-qb-ABC:** Vazão volumétrica total (411.56 km³/d) acima do limite máximo (100 km³/d)\n> * **CITY_02_PT-033:** Pressão na saída da estação (49.83 kgf/cm²) acima do limite máximo (35 kgf/cm²)\n> * **CITY_05_PT-033:** Pressão na saída da estação (42.43 kgf/cm²) acima do limite máximo (35 kgf/cm²)\n> \n> **Observações:**\n> \n> * Todas as outras estações apresentam status normal para os alarmes e variáveis monitorados.\n> * As estações CITY_02 e CITY_05 apresentam pressão de saída acima do limite, requerendo investigação e possível intervenção.\n> * A estação CITY_02 apresenta vazão volumétrica total muito acima do limite, demandando atenção imediata para identificar a causa e tomar as medidas corretivas.\n> * A falha crítica na válvula de bloqueio da entrada do aquecedor A na estação CITY_01 precisa ser resolvida com urgência.\n> \n> Recomenda-se  investigar as causas dos alarmes e variáveis fora dos limites operacionais, priorizando as falhas críticas e tomando as medidas corretivas adequadas. \n"
          },
          "metadata": {}
        },
        {
          "output_type": "stream",
          "name": "stdout",
          "text": [
            "\n",
            "\n",
            "Digite sua pergunta: Qual o status da estação 01\n",
            "Resposta: \n"
          ]
        },
        {
          "output_type": "display_data",
          "data": {
            "text/plain": [
              "<IPython.core.display.Markdown object>"
            ],
            "text/markdown": "> ## Status da Estação CITY_01:\n> \n> **Alarmes:**\n> \n> * **CITY_01_XS-056A-FALHA:** Válvula de bloqueio na entrada do aquecedor A - Falha. Falha no comando da válvula HV-056. Prioridade CRÍTICA.\n> \n> **Variáveis:**\n> \n> * **CITY_01_GFC-qb-AB:** Vazão volumétrica total: 25.59 km³/d (Dentro dos limites)\n> * **CITY_01_PT-001:** Pressão de entrada da estação: 82.05 kgf/cm² (Dentro dos limites)\n> * **CITY_01_PT-033:** Pressão na saída da estação: 35.31 kgf/cm² (Dentro dos limites)\n> \n> **Observações:**\n> \n> * A estação CITY_01 apresenta um alarme crítico: falha na válvula de bloqueio na entrada do aquecedor A. Essa falha precisa ser investigada e corrigida com urgência, pois pode comprometer o funcionamento do aquecedor e impactar o abastecimento de água.\n> * As demais variáveis da estação, como vazão e pressão, estão dentro dos limites operacionais, indicando que, excetuando a falha crítica, a estação opera dentro dos parâmetros esperados.\n> \n> **Recomendações:**\n> \n> * Investigar a causa da falha na válvula de bloqueio na entrada do aquecedor A (CITY_01_XS-056A-FALHA) e tomar as medidas corretivas o mais rápido possível. \n> * Monitorar as demais variáveis da estação para garantir que continuem dentro dos limites operacionais. \n"
          },
          "metadata": {}
        },
        {
          "output_type": "stream",
          "name": "stdout",
          "text": [
            "\n",
            "\n",
            "Digite sua pergunta: Quais ações tomar sobre o alarme crítico da estação 01\n",
            "Resposta: \n"
          ]
        },
        {
          "output_type": "display_data",
          "data": {
            "text/plain": [
              "<IPython.core.display.Markdown object>"
            ],
            "text/markdown": "> ## Ações para o Alarme Crítico CITY_01_XS-056A-FALHA:\n> \n> O alarme  *CITY_01_XS-056A-FALHA *, que indica falha na válvula de bloqueio na entrada do aquecedor A da estação CITY_01,  é crítico e requer ação imediata para garantir a segurança e o bom funcionamento do sistema.\n> \n> **Passo 1: Confirmação e avaliação:**\n> \n> 1. **Confirmar o status do alarme:** Verificar no sistema de supervisão se o alarme ainda está ativo e se há outras informações relevantes.\n> 2. **Verificar a posição da válvula HV-056:**  Se possível, confirmar a posição real da válvula através de inspeção visual local ou sistema de monitoramento.\n> 3. **Analisar o histórico de alarmes:** Verificar se esse alarme é recorrente e se há outros alarmes relacionados, como os relacionados ao aquecedor A.\n> \n> **Passo 2: Isolamento e segurança:**\n> \n> 1. **Isolar o aquecedor A:** Se a válvula HV-056 estiver realmente aberta e não responder a comandos, isole o aquecedor A para evitar possíveis danos ou riscos à segurança.\n> 2. **Informar a equipe de manutenção:** Comunicar a equipe de manutenção sobre o alarme crítico e as medidas de isolamento tomadas.\n> 3. **Monitorar o sistema:** Observar atentamente o comportamento do sistema, como temperatura e pressão, durante o processo de isolamento.\n> \n> **Passo 3: Diagnóstico e reparo:**\n> \n> 1. **Investigar a causa da falha:** A equipe de manutenção deve investigar a causa da falha na válvula HV-056. Algumas possibilidades são:\n>     * **Falha no atuador da válvula:** Verificar o fornecimento de energia ao atuador, fiação e possíveis defeitos no mecanismo.\n>     * **Obstrução na válvula:**  Inspecionar a válvula em busca de obstruções que impeçam o seu fechamento.\n>     * **Problema no sinal de controle:** Verificar a integridade do cabeamento e a correta emissão do sinal de controle pelo sistema de automação.\n> 2. **Realizar o reparo:** Após identificar a causa da falha, a equipe de manutenção deve realizar o reparo ou substituição dos componentes defeituosos.\n> \n> **Passo 4:  Normalização e acompanhamento:**\n> \n> 1. **Testar a válvula:**  Após o reparo, testar o funcionamento da válvula HV-056, garantindo que ela abra e feche corretamente em resposta aos comandos do sistema de automação.\n> 2. **Reativar o aquecedor A:** Após a confirmação do bom funcionamento da válvula, reativar o aquecedor A.\n> 3. **Monitorar o sistema:** Continuar monitorando o sistema para garantir que o alarme não volte a ocorrer e que o aquecedor A opere normalmente.\n> \n> **Documentação:**\n> \n> * Registrar todas as ações tomadas, os resultados das investigações e os reparos realizados.\n> \n> Lembre-se que a segurança é a prioridade máxima. Se não se sentir confortável para realizar algum dos passos, contate um especialista ou a equipe de manutenção imediatamente.\n> \n"
          },
          "metadata": {}
        },
        {
          "name": "stdout",
          "output_type": "stream",
          "text": [
            "\n",
            "\n",
            "Digite sua pergunta: fim\n"
          ]
        }
      ]
    }
  ]
}