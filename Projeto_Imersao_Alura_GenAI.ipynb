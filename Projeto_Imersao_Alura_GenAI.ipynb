{
  "nbformat": 4,
  "nbformat_minor": 0,
  "metadata": {
    "colab": {
      "provenance": [],
      "authorship_tag": "ABX9TyP3x80TsjxMfSar/Jx2cE1e",
      "include_colab_link": true
    },
    "kernelspec": {
      "name": "python3",
      "display_name": "Python 3"
    },
    "language_info": {
      "name": "python"
    }
  },
  "cells": [
    {
      "cell_type": "markdown",
      "metadata": {
        "id": "view-in-github",
        "colab_type": "text"
      },
      "source": [
        "<a href=\"https://colab.research.google.com/github/digodox/Imersao_Alura_Google_AI/blob/main/Projeto_Imersao_Alura_GenAI.ipynb\" target=\"_parent\"><img src=\"https://colab.research.google.com/assets/colab-badge.svg\" alt=\"Open In Colab\"/></a>"
      ]
    },
    {
      "cell_type": "markdown",
      "source": [
        "##Importação das bibliotecas"
      ],
      "metadata": {
        "id": "MgLZcH6Wq_IQ"
      }
    },
    {
      "cell_type": "code",
      "source": [
        "import hashlib\n",
        "from IPython.display import display\n",
        "from IPython.display import Markdown\n",
        "import textwrap\n",
        "import numpy as np\n",
        "import pandas as pd\n",
        "import google.generativeai as genai\n",
        "from google.colab import userdata"
      ],
      "metadata": {
        "id": "V4BMxvpeq-PN"
      },
      "execution_count": 76,
      "outputs": []
    },
    {
      "cell_type": "markdown",
      "source": [
        "##Definição dos caminhos das planilhas de dados"
      ],
      "metadata": {
        "id": "TCFN4yFfJVFJ"
      }
    },
    {
      "cell_type": "code",
      "source": [
        "path_dados_racionalização = \"/content/sample_data/Dados/Racionalizacao_de_alarmes.xlsx\"\n",
        "path_dados_alarmes = \"/content/sample_data/Dados/Alarmes.xlsx\"\n",
        "path_dados_tags_analogicos = \"/content/sample_data/Dados/TAGs_Analogicos.xlsx\"\n",
        "path_dados_limites_operacionais = \"/content/sample_data/Dados/Limites Operacionais.xlsx\""
      ],
      "metadata": {
        "id": "XnRud01iJ1fI"
      },
      "execution_count": 77,
      "outputs": []
    },
    {
      "cell_type": "markdown",
      "source": [
        "##Configurando a API Key"
      ],
      "metadata": {
        "id": "Uczx5guktib9"
      }
    },
    {
      "cell_type": "code",
      "source": [
        "api_key = userdata.get(\"GENAI_API_KEY\")\n",
        "genai.configure(api_key=api_key)"
      ],
      "metadata": {
        "id": "9Vx0hLD-tdQZ"
      },
      "execution_count": 78,
      "outputs": []
    },
    {
      "cell_type": "markdown",
      "source": [
        "##Configuração do modelo"
      ],
      "metadata": {
        "id": "sDmjCqaQsH3r"
      }
    },
    {
      "cell_type": "code",
      "source": [
        "generation_config = {\n",
        "  \"temperature\": 1,\n",
        "  \"top_p\": 0.95,\n",
        "  \"top_k\": 0,\n",
        "  \"max_output_tokens\": 8192,\n",
        "}\n",
        "\n",
        "safety_settings = [\n",
        "  {\n",
        "    \"category\": \"HARM_CATEGORY_HARASSMENT\",\n",
        "    \"threshold\": \"BLOCK_MEDIUM_AND_ABOVE\"\n",
        "  },\n",
        "  {\n",
        "    \"category\": \"HARM_CATEGORY_HATE_SPEECH\",\n",
        "    \"threshold\": \"BLOCK_MEDIUM_AND_ABOVE\"\n",
        "  },\n",
        "  {\n",
        "    \"category\": \"HARM_CATEGORY_SEXUALLY_EXPLICIT\",\n",
        "    \"threshold\": \"BLOCK_MEDIUM_AND_ABOVE\"\n",
        "  },\n",
        "  {\n",
        "    \"category\": \"HARM_CATEGORY_DANGEROUS_CONTENT\",\n",
        "    \"threshold\": \"BLOCK_MEDIUM_AND_ABOVE\"\n",
        "  },\n",
        "]\n",
        "\n",
        "system_instruction = \"Aja como um engenheiro.\""
      ],
      "metadata": {
        "id": "aDJcBQPcrF8z"
      },
      "execution_count": 79,
      "outputs": []
    },
    {
      "cell_type": "markdown",
      "source": [
        "##Markdown"
      ],
      "metadata": {
        "id": "xxw28eeYybsZ"
      }
    },
    {
      "cell_type": "code",
      "source": [
        "def to_markdown(text):\n",
        "  text = text.replace(\"'\", \" *\")\n",
        "  return Markdown(textwrap.indent(text, '> ', predicate=lambda _: True))\n"
      ],
      "metadata": {
        "id": "itnByLDuybVf"
      },
      "execution_count": 80,
      "outputs": []
    },
    {
      "cell_type": "markdown",
      "source": [
        "##Extração dos dados das planilhas e preparando o histórico do chat"
      ],
      "metadata": {
        "id": "KOliPazzSlij"
      }
    },
    {
      "cell_type": "code",
      "source": [
        "def extrair_dados_racionalizacao(alarme):\n",
        "  tagname = alarme['Tagname']\n",
        "  descricao = alarme['Descrição do Alarme']\n",
        "  prioridade = alarme['Prioridade']\n",
        "  causa = alarme['Causa iniciadora']\n",
        "  acao = alarme['Ação da Central de Controle']\n",
        "  impacto = alarme['Impacto direto']\n",
        "  consequencia = alarme['Consequência Potencial']\n",
        "  supressao = alarme['Supressão Manual']\n",
        "\n",
        "  dado_extraido = f\"O alarme '{tagname}', que se refere à '{descricao}', e considerando que a causa iniciadora é a '{causa}', e com prioridade '{prioridade}'.\"\n",
        "  return dado_extraido\n",
        "\n",
        "def extrair_dados_alarmes(alarme):\n",
        "  tagname = alarme['Tagname']\n",
        "  status = alarme['Status do Alarme']\n",
        "\n",
        "  dado_extraido = f\"O alarme '{tagname}' está no estado '{status}'.\"\n",
        "  return dado_extraido\n",
        "\n",
        "def extrair_dados_valores_anal(alarme):\n",
        "  tagname = alarme['TagName']\n",
        "  description = alarme['Description']\n",
        "  value = alarme['Value']\n",
        "  units = alarme['Units']\n",
        "\n",
        "  dado_extraido = f\"O tag '{tagname}', que se refere à '{description}', possui o valor atual de '{value}' '{units}'.\"\n",
        "  return dado_extraido\n",
        "\n",
        "def extrair_dados_limites_operacionais(alarme):\n",
        "  estacao = alarme['Estação']\n",
        "  variavel = alarme['Variável']\n",
        "  limite_superior = alarme['Limite Superior']\n",
        "  limite_inferior = alarme['Limite Inferior']\n",
        "  units = alarme['Units']\n",
        "\n",
        "  dado_extraido = f\"A variável '{variavel}', que se refere à estação '{estacao}', possui limite máximo de '{limite_superior}' '{units}' e limite mínimo de '{limite_inferior}' '{units}'.\"\n",
        "  return dado_extraido"
      ],
      "metadata": {
        "id": "6Zuqf7xQSpcR"
      },
      "execution_count": 81,
      "outputs": []
    },
    {
      "cell_type": "markdown",
      "source": [
        "##Definição do contexto inicial na variável history[]"
      ],
      "metadata": {
        "id": "daetIoQ5t9Dg"
      }
    },
    {
      "cell_type": "code",
      "source": [
        "#Chat history variable\n",
        "history = []\n",
        "\n",
        "df = pd.read_excel(path_dados_racionalização)\n",
        "for index, row in df.iterrows():\n",
        "  alarme = row.to_dict()\n",
        "  dados_racionalizacao = extrair_dados_racionalizacao(alarme)\n",
        "  history.append({\n",
        "      \"role\": \"user\",\n",
        "      \"parts\": dados_racionalizacao\n",
        "      })\n",
        "\n",
        "df = pd.read_excel(path_dados_alarmes)\n",
        "for index, row in df.iterrows():\n",
        "  alarme = row.to_dict()\n",
        "  dados_alarmes = extrair_dados_alarmes(alarme)\n",
        "  history.append({\n",
        "      \"role\": \"user\",\n",
        "      \"parts\": dados_alarmes\n",
        "      })\n",
        "\n",
        "df = pd.read_excel(path_dados_tags_analogicos)\n",
        "for index, row in df.iterrows():\n",
        "  alarme = row.to_dict()\n",
        "  dados_tags_analogicos = extrair_dados_valores_anal(alarme)\n",
        "  history.append({\n",
        "    \"role\": \"user\",\n",
        "    \"parts\": dados_tags_analogicos\n",
        "    })\n",
        "\n",
        "df = pd.read_excel(path_dados_limites_operacionais)\n",
        "for index, row in df.iterrows():\n",
        "  alarme = row.to_dict()\n",
        "  dados_limites_operacionais = extrair_dados_limites_operacionais(alarme)\n",
        "  history.append({\n",
        "    \"role\": \"user\",\n",
        "    \"parts\": dados_limites_operacionais\n",
        "    })"
      ],
      "metadata": {
        "id": "rhxP8fiCTIEz"
      },
      "execution_count": 82,
      "outputs": []
    },
    {
      "cell_type": "markdown",
      "source": [
        "##Inicialização do modelo"
      ],
      "metadata": {
        "id": "NlnnNNSTrNrz"
      }
    },
    {
      "cell_type": "code",
      "execution_count": 83,
      "metadata": {
        "id": "VA7xBz9mq39c"
      },
      "outputs": [],
      "source": [
        "model = genai.GenerativeModel(model_name=\"gemini-1.5-pro-latest\",\n",
        "                              generation_config=generation_config,\n",
        "                              system_instruction=system_instruction,\n",
        "                              safety_settings=safety_settings)"
      ]
    },
    {
      "cell_type": "markdown",
      "source": [
        "## Chat prompt\n",
        "\n",
        "Sugestão de perguntas para o modelo:\n",
        "\n",
        "*   Sumarize o status das estações.\n",
        "*   Qual o status da estação 01.\n",
        "*   Quais ações tomar sobre o alarme crítico da estação 01.\n",
        "*   Digite \"fim\" no prompt para encerrar o chat."
      ],
      "metadata": {
        "id": "o0aVYZ3RuxpL"
      }
    },
    {
      "cell_type": "code",
      "source": [
        "convo = model.start_chat(history=history)\n",
        "\n",
        "prompt = input(\"Digite sua pergunta: \")\n",
        "while prompt != \"fim\":\n",
        "  convo.send_message(prompt)\n",
        "  print(\"Resposta: \")\n",
        "  display(to_markdown(convo.last.text))\n",
        "  print(\"\\n\")\n",
        "  prompt = input(\"Digite sua pergunta: \")\n"
      ],
      "metadata": {
        "colab": {
          "base_uri": "https://localhost:8080/",
          "height": 1000
        },
        "id": "8TZwr9tkuw3c",
        "outputId": "91a613ea-f7ba-42c2-e977-cee38fc69e97"
      },
      "execution_count": 84,
      "outputs": [
        {
          "output_type": "stream",
          "name": "stdout",
          "text": [
            "Digite sua pergunta: Sumarize o status das estações\n",
            "Resposta: \n"
          ]
        },
        {
          "output_type": "display_data",
          "data": {
            "text/plain": [
              "<IPython.core.display.Markdown object>"
            ],
            "text/markdown": "> ## Sumário do Estado das Estações CITY\n> \n> **Alarmes:**\n> \n> * **CITY_05:** Nível de água no aquecedor B - atuado (prioridade baixa)\n> * **CITY_01:** Válvula de bloqueio - Entrada do aquecedor A - Falha - atuado (prioridade crítica)\n> * **CITY_02:** Válvula VES-410 Aberta - atuado (prioridade crítica)\n> * **CITY_07:** Válvula XV-014B Fechada - atuado (prioridade alta)\n> \n> **Variáveis Fora dos Limites:**\n> \n> * **CITY_02:** Vazão volumétrica total (411.56 km³/d) - acima do limite máximo de 100 km³/d.\n> * **CITY_02:** Pressão de saída (49.83 kgf/cm²) - acima do limite máximo de 35 kgf/cm².\n> \n> **Observações:**\n> \n> * Todas as outras estações (CITY_01, CITY_03, CITY_04, CITY_06) estão com seus alarmes em estado normal e variáveis dentro dos limites operacionais. \n> * A estação **CITY_05** apresenta um alarme de nível baixo de água no aquecedor B, porém com prioridade baixa. Investigar a causa (falta de água na caixa d *água da estação ou problema no instrumento).\n> * As estações **CITY_01**, **CITY_02**, e **CITY_07** apresentam alarmes de alta prioridade. **Acionar equipe de manutenção imediatamente** para investigar as causas:\n>     * **CITY_01:** Falha na válvula de bloqueio de entrada do aquecedor A.\n>     * **CITY_02:** Válvula VES-410 aberta, vazão e pressão de saída acima dos limites. \n>     * **CITY_07:** Válvula XV-014B fechada.\n> \n> **Recomendações:**\n> \n> * Priorizar a resolução dos alarmes críticos e alta prioridade nas estações **CITY_01, CITY_02, e CITY_07**.\n> * Monitorar a situação do nível de água no aquecedor B na estação **CITY_05**.\n> * Verificar a calibração dos instrumentos de medição de vazão e pressão na estação **CITY_02**.\n> \n> Este sumário visa auxiliar na rápida tomada de decisão e priorização de ações para garantir a operação segura e eficiente das estações. \n"
          },
          "metadata": {}
        },
        {
          "output_type": "stream",
          "name": "stdout",
          "text": [
            "\n",
            "\n",
            "Digite sua pergunta: Qual o status da estação 01\n",
            "Resposta: \n"
          ]
        },
        {
          "output_type": "display_data",
          "data": {
            "text/plain": [
              "<IPython.core.display.Markdown object>"
            ],
            "text/markdown": "> A estação CITY_01 apresenta um alarme crítico ativo:\n> \n> * **CITY_01_XS-056A-FALHA:**  *Válvula de bloqueio - Entrada do aquecedor A - Falha * -  indica  uma falha no comando da válvula HV-056.\n> \n> Este é um alarme de **prioridade crítica** e requer atenção imediata da equipe de manutenção. \n> \n> Todos os outros alarmes da estação estão em estado normal e as variáveis de pressão de entrada, pressão de saída e vazão estão dentro dos limites operacionais. \n> \n> **Em resumo:** Apesar de seus parâmetros de operação estarem dentro dos limites, a estação CITY_01 necessita de intervenção imediata para solucionar a falha crítica na válvula de bloqueio do aquecedor A. \n"
          },
          "metadata": {}
        },
        {
          "output_type": "stream",
          "name": "stdout",
          "text": [
            "\n",
            "\n",
            "Digite sua pergunta: Quais ações tomar sobre o alarme crítico da estação 01\n",
            "Resposta: \n"
          ]
        },
        {
          "output_type": "display_data",
          "data": {
            "text/plain": [
              "<IPython.core.display.Markdown object>"
            ],
            "text/markdown": "> ## Ações para o Alarme Crítico CITY_01_XS-056A-FALHA:\n> \n> O alarme  *CITY_01_XS-056A-FALHA * ( *Válvula de bloqueio - Entrada do aquecedor A - Falha *) indica um problema crítico que pode comprometer a segurança e a operação da estação. \n> \n> **Ações Imediatas:**\n> \n> 1. **Isolar o Aquecedor A:**  Desligue o aquecedor A imediatamente para evitar qualquer dano potencial devido à falha na válvula de bloqueio.\n> 2. **Verificação de Segurança:**  Garanta que a área ao redor do aquecedor A esteja segura, livre de vazamentos de gás ou outros perigos.\n> 3. **Investigar a Causa da Falha:** Acionar equipe de manutenção para investigar a causa da falha no comando da válvula HV-056. Algumas possibilidades:\n>     * **Falha na própria válvula:**  Verificar se a válvula está funcionando corretamente (aberta/fechada), se há algum dano físico ou obstrução.\n>     * **Falha no atuador:** Verificar o atuador da válvula, incluindo fiação, alimentação e sinais de controle. \n>     * **Falha no sistema de controle:** Verificar o CLP e seus programas, buscando por erros de comunicação ou lógica de controle.\n> \n> **Ações Posteriores:**\n> \n> 4. **Reparar/Substituir:**  Dependendo da causa da falha, será necessário reparar ou substituir a válvula, o atuador ou componentes do sistema de controle.\n> 5. **Testar a Válvula:**  Após o reparo, testar exaustivamente a válvula para garantir seu correto funcionamento.\n> 6. **Reativar o Aquecedor A:**  Somente após a confirmação da resolução da falha e testes bem-sucedidos, reative o aquecedor A.\n> \n> **Documentação:**\n> \n> * Registrar todas as ações tomadas, os resultados das investigações e reparos realizados. \n> * Analisar a ocorrência para identificar a causa raiz da falha e implementar medidas preventivas para evitar repetições no futuro.\n> \n> **Considerações:**\n> \n> * A segurança é primordial. A equipe de manutenção deve seguir os procedimentos de segurança adequados durante todas as etapas.\n> * A rapidez na resolução do problema é crucial para minimizar o tempo de inatividade da estação.\n> * Manter contato com a equipe de operação e fornecer atualizações regulares sobre o progresso do reparo. \n"
          },
          "metadata": {}
        },
        {
          "name": "stdout",
          "output_type": "stream",
          "text": [
            "\n",
            "\n",
            "Digite sua pergunta: fim\n"
          ]
        }
      ]
    }
  ]
}